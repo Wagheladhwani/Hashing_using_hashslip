{
  "nbformat": 4,
  "nbformat_minor": 0,
  "metadata": {
    "colab": {
      "name": "Untitled3.ipynb",
      "provenance": [],
      "collapsed_sections": []
    },
    "kernelspec": {
      "name": "python3",
      "display_name": "Python 3"
    },
    "language_info": {
      "name": "python"
    }
  },
  "cells": [
    {
      "cell_type": "code",
      "metadata": {
        "id": "C4TJXduOlEAh"
      },
      "source": [
        "import hashlib"
      ],
      "execution_count": 1,
      "outputs": []
    },
    {
      "cell_type": "code",
      "metadata": {
        "id": "W4Azk_ualHBD"
      },
      "source": [
        "string=\"PYTHON\"\n",
        "mystring = input('Enter String to hash: ')\n",
        "print(\"PYTHON= \"+hashlib.md5(\"PYTHON\".encode('utf-8')).hexdigest())\n",
        "print(\"PYTHON= \"+hashlib.md5(string.encode('utf-8')).hexdigest())\n",
        "\n",
        "a = hashlib.md5(mystring.encode())\n",
        "print(a.hexdigest())\n",
        "\n",
        "b = hashlib.sha1(b'Hello World')\n",
        "b1 = b.hexdigest()\n",
        "print(b1)\n",
        "\n",
        "c = hashlib.sha224(b'Hello World')\n",
        "c1 = c.hexdigest()\n",
        "print(c1)\n",
        "\n",
        "d = hashlib.sha256(b'Hello World')\n",
        "d1 = hash_object.hexdigest()\n",
        "print(d1)"
      ],
      "execution_count": null,
      "outputs": []
    }
  ]
}